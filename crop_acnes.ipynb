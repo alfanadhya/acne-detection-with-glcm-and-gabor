{
  "nbformat": 4,
  "nbformat_minor": 0,
  "metadata": {
    "colab": {
      "name": "crop_acnes.ipynb",
      "provenance": [],
      "authorship_tag": "ABX9TyP5dfTHfmdjN59d4p0LM3ym",
      "include_colab_link": true
    },
    "kernelspec": {
      "name": "python3",
      "display_name": "Python 3"
    },
    "language_info": {
      "name": "python"
    }
  },
  "cells": [
    {
      "cell_type": "markdown",
      "metadata": {
        "id": "view-in-github",
        "colab_type": "text"
      },
      "source": [
        "<a href=\"https://colab.research.google.com/github/alfanadhya/acne-detection-with-glcm-and-gabor/blob/main/crop_acnes.ipynb\" target=\"_parent\"><img src=\"https://colab.research.google.com/assets/colab-badge.svg\" alt=\"Open In Colab\"/></a>"
      ]
    },
    {
      "cell_type": "code",
      "execution_count": null,
      "metadata": {
        "colab": {
          "base_uri": "https://localhost:8080/"
        },
        "id": "A7ZvBB2g7DUF",
        "outputId": "91bb34a8-6780-45f2-837e-799a87e79ba5"
      },
      "outputs": [
        {
          "output_type": "stream",
          "name": "stdout",
          "text": [
            "Mounted at /content/drive\n"
          ]
        }
      ],
      "source": [
        "from google.colab import drive\n",
        "drive.mount('/content/drive')"
      ]
    },
    {
      "cell_type": "code",
      "source": [
        "import glob\n",
        "import os\n",
        "from natsort import natsorted\n",
        "from os.path import join\n",
        "import xml.etree.ElementTree as ET\n",
        "from PIL import Image\n",
        "import cv2\n",
        "import matplotlib.pyplot as plt\n",
        "import numpy as np\n",
        "import pandas as pd\n",
        "from sklearn.mixture import GaussianMixture\n",
        "from skimage.feature import greycomatrix,greycoprops\n",
        "from sklearn import preprocessing"
      ],
      "metadata": {
        "id": "vdJ9mIU62ztA"
      },
      "execution_count": null,
      "outputs": []
    },
    {
      "cell_type": "code",
      "source": [
        "path = '/content/drive/MyDrive/DatasetTA_Playground/train/all'\n",
        "\n",
        "img_files = natsorted(glob.glob(join(path, '*.jpg')))\n",
        "xml_files = natsorted(glob.glob(join(path, '*.xml')))"
      ],
      "metadata": {
        "id": "dPPl0yud25wx"
      },
      "execution_count": null,
      "outputs": []
    },
    {
      "cell_type": "code",
      "source": [
        "def get_annotation_coor(xml_file):\n",
        "  tree = ET.parse(xml_file)\n",
        "  root = tree.getroot()\n",
        "\n",
        "  boxes = []\n",
        "  sizes = []\n",
        "  for obj in root.findall('object'):\n",
        "    xmin = int(obj.find('bndbox').find('xmin').text)\n",
        "    ymin = int(obj.find('bndbox').find('ymin').text)\n",
        "    xmax = int(obj.find('bndbox').find('xmax').text)\n",
        "    ymax = int(obj.find('bndbox').find('ymax').text) \n",
        "    coors = {'xmin': xmin, 'ymin': ymin, 'xmax': xmax, 'ymax': ymax}\n",
        "    boxes.append(coors)\n",
        "\n",
        "  return boxes"
      ],
      "metadata": {
        "id": "OmPxwoJ63LOu"
      },
      "execution_count": null,
      "outputs": []
    },
    {
      "cell_type": "code",
      "source": [
        "def crop_box(img_file, boxes, img_id):\n",
        "  img_file = cv2.imread(img_file)\n",
        "  resize = cv2.resize(img_file, (320, 320), interpolation=cv2.INTER_NEAREST)\n",
        "  out_path = '/content/drive/MyDrive/DatasetTA_Playground/acne_blocks/'\n",
        "\n",
        "  img_cropped = []\n",
        "\n",
        "  for i in range(len(boxes)):\n",
        "    crop = resize[boxes[i]['ymin']:boxes[i]['ymax'], boxes[i]['xmin']:boxes[i]['xmax']]\n",
        "    img_cropped.append(cv2.cvtColor(crop, cv2.COLOR_BGR2RGB))\n",
        "    #cv2.imwrite(out_path + f'{str(img_id) + \"-\" + str(i)}.jpg', crop)\n",
        "  \n",
        "  return img_cropped"
      ],
      "metadata": {
        "id": "7v5b3RTH3ktz"
      },
      "execution_count": null,
      "outputs": []
    },
    {
      "cell_type": "code",
      "source": [
        "blocks = []\n",
        "for i in range(len(xml_files)):\n",
        "  boxes = get_annotation_coor(xml_files[i])\n",
        "  img_cropped = crop_box(img_files[i], boxes, i)\n",
        "  blocks.append(img_cropped)"
      ],
      "metadata": {
        "id": "5BN0MX3n-Nac"
      },
      "execution_count": null,
      "outputs": []
    },
    {
      "cell_type": "code",
      "source": [
        "boxes_ = []\n",
        "for i in range(len(xml_files)):\n",
        "  boxes_.append(get_annotation_coor(xml_files[i]))"
      ],
      "metadata": {
        "id": "eTJX3tl0_6GV"
      },
      "execution_count": null,
      "outputs": []
    },
    {
      "cell_type": "code",
      "source": [
        "widths = []\n",
        "heights = []\n",
        "areas = []\n",
        "for box in boxes_:\n",
        "  for coor in box:\n",
        "    width = coor['xmax']-coor['xmin']\n",
        "    height = coor['ymax']-coor['ymin']\n",
        "    area = width*height\n",
        "    widths.append(width)\n",
        "    heights.append(height)\n",
        "    areas.append(area)"
      ],
      "metadata": {
        "id": "tYduIg67AB0c"
      },
      "execution_count": null,
      "outputs": []
    },
    {
      "cell_type": "code",
      "source": [
        "from statistics import mean\n",
        "print(min(widths), max(widths))\n",
        "print(min(heights), max(heights))\n",
        "print(min(areas), max(areas))\n",
        "print(np.mean(widths), np.mean(heights), np.mean(areas))\n",
        "print(np.std(widths), np.std(heights), np.std(areas))\n",
        "print(int(np.mean(widths)+np.std(widths)), int(np.mean(heights)+np.std(heights)))\n",
        "print(int(np.mean(widths)-np.std(widths)), int(np.mean(heights)-np.std(heights)))"
      ],
      "metadata": {
        "colab": {
          "base_uri": "https://localhost:8080/"
        },
        "id": "QZD8TEtJGF-V",
        "outputId": "cdde69b2-8ae4-4cfd-95c5-d68d0388311b"
      },
      "execution_count": null,
      "outputs": [
        {
          "output_type": "stream",
          "name": "stdout",
          "text": [
            "1 33\n",
            "2 30\n",
            "2 728\n",
            "11.218390804597702 12.982758620689655 153.0816091954023\n",
            "4.5049788226027605 4.261663020506985 92.62257616694374\n",
            "15 17\n",
            "6 8\n"
          ]
        }
      ]
    },
    {
      "cell_type": "code",
      "source": [
        "plt.hist(widths)\n",
        "plt.title('Histogram of Bbox Width on Training Data')"
      ],
      "metadata": {
        "colab": {
          "base_uri": "https://localhost:8080/",
          "height": 298
        },
        "id": "Xfy-UKpMMFj8",
        "outputId": "64ae0a81-e25d-4726-82dd-291e9f08ac03"
      },
      "execution_count": null,
      "outputs": [
        {
          "output_type": "execute_result",
          "data": {
            "text/plain": [
              "Text(0.5, 1.0, 'Histogram of Bbox Width on Training Data')"
            ]
          },
          "metadata": {},
          "execution_count": 13
        },
        {
          "output_type": "display_data",
          "data": {
            "text/plain": [
              "<Figure size 432x288 with 1 Axes>"
            ],
            "image/png": "[encoded data removed]"
          },
          "metadata": {
            "needs_background": "light"
          }
        }
      ]
    },
    {
      "cell_type": "code",
      "source": [
        "plt.hist(heights)\n",
        "plt.title('Histogram of Bbox Height on Training Data')"
      ],
      "metadata": {
        "colab": {
          "base_uri": "https://localhost:8080/",
          "height": 298
        },
        "id": "wzZ2-tOmMI0q",
        "outputId": "0873f943-8fda-4fe2-8a28-9bccb0796e36"
      },
      "execution_count": null,
      "outputs": [
        {
          "output_type": "execute_result",
          "data": {
            "text/plain": [
              "Text(0.5, 1.0, 'Histogram of Bbox Height on Training Data')"
            ]
          },
          "metadata": {},
          "execution_count": 14
        },
        {
          "output_type": "display_data",
          "data": {
            "text/plain": [
              "<Figure size 432x288 with 1 Axes>"
            ],
            "image/png": "[encoded data removed]"
          },
          "metadata": {
            "needs_background": "light"
          }
        }
      ]
    },
    {
      "cell_type": "code",
      "source": [
        "plt.hist(areas)\n",
        "plt.title('Histogram of Bbox Area on Training Data')"
      ],
      "metadata": {
        "colab": {
          "base_uri": "https://localhost:8080/",
          "height": 298
        },
        "id": "LyWjZOD4DZtI",
        "outputId": "35a5db91-96da-4d62-cc8d-3313ad5fdccd"
      },
      "execution_count": null,
      "outputs": [
        {
          "output_type": "execute_result",
          "data": {
            "text/plain": [
              "Text(0.5, 1.0, 'Histogram of Bbox Area on Training Data')"
            ]
          },
          "metadata": {},
          "execution_count": 15
        },
        {
          "output_type": "display_data",
          "data": {
            "text/plain": [
              "<Figure size 432x288 with 1 Axes>"
            ],
            "image/png": "[encoded data removed]"
          },
          "metadata": {
            "needs_background": "light"
          }
        }
      ]
    }
  ]
}