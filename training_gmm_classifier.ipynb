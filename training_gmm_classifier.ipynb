{
  "nbformat": 4,
  "nbformat_minor": 0,
  "metadata": {
    "colab": {
      "name": "training_gmm_classifier.ipynb",
      "provenance": [],
      "authorship_tag": "ABX9TyPlqecxMR6nxy8PAsJT1uge",
      "include_colab_link": true
    },
    "kernelspec": {
      "name": "python3",
      "display_name": "Python 3"
    },
    "language_info": {
      "name": "python"
    }
  },
  "cells": [
    {
      "cell_type": "markdown",
      "metadata": {
        "id": "view-in-github",
        "colab_type": "text"
      },
      "source": [
        "<a href=\"https://colab.research.google.com/github/alfanadhya/acne-detection-with-glcm-and-gabor/blob/main/training_gmm_classifier.ipynb\" target=\"_parent\"><img src=\"https://colab.research.google.com/assets/colab-badge.svg\" alt=\"Open In Colab\"/></a>"
      ]
    },
    {
      "cell_type": "code",
      "execution_count": null,
      "metadata": {
        "colab": {
          "base_uri": "https://localhost:8080/"
        },
        "id": "joJL0QMyEYky",
        "outputId": "e6c14b18-39cf-4d00-de03-7cdfdcf600c6"
      },
      "outputs": [
        {
          "output_type": "stream",
          "name": "stdout",
          "text": [
            "Mounted at /content/drive\n"
          ]
        }
      ],
      "source": [
        "from google.colab import drive\n",
        "drive.mount('/content/drive')"
      ]
    },
    {
      "cell_type": "code",
      "source": [
        "# LIBRARIES\n",
        "from sklearn import preprocessing\n",
        "import numpy as np\n",
        "import pandas as pd\n",
        "import matplotlib.pyplot as plt\n",
        "from sklearn.mixture import GaussianMixture\n",
        "\n",
        "# to split training and test data\n",
        "from sklearn.model_selection import train_test_split\n",
        "\n",
        "# to save model\n",
        "import joblib"
      ],
      "metadata": {
        "id": "Ai_XHk-xHhmX"
      },
      "execution_count": null,
      "outputs": []
    },
    {
      "cell_type": "code",
      "source": [
        "# Load features\n",
        "feats_path = '/content/drive/MyDrive/DatasetTA_Playground/experiments/features/glcm_features_grayscale.xlsx'\n",
        "feats_df = pd.read_excel(feats_path)\n",
        "feats_df.iloc[:,1:].head()"
      ],
      "metadata": {
        "colab": {
          "base_uri": "https://localhost:8080/",
          "height": 206
        },
        "id": "K1o4ZcBZHqa5",
        "outputId": "cec2a748-c95a-4802-a319-53c8828b5d06"
      },
      "execution_count": null,
      "outputs": [
        {
          "output_type": "execute_result",
          "data": {
            "text/plain": [
              "   contrast  dissimilarity  correlation    energy  homogeneity       ASM  \\\n",
              "0  0.020025       0.134799     0.869855  0.030868     0.410748  0.003909   \n",
              "1  0.022913       0.148384     0.919504  0.018559     0.369773  0.002143   \n",
              "2  0.008061       0.089653     0.979681  0.025450     0.559909  0.003119   \n",
              "3  0.043307       0.200334     0.954040  0.008647     0.284268  0.000922   \n",
              "4  0.032804       0.171285     0.757786  0.023506     0.345511  0.002819   \n",
              "\n",
              "   label  \n",
              "0      0  \n",
              "1      0  \n",
              "2      0  \n",
              "3      0  \n",
              "4      0  "
            ],
            "text/html": [
              "\n",
              "  <div id=\"df-a98bd6c0-65b5-46ff-b8f1-844fd1c50ba5\">\n",
              "    <div class=\"colab-df-container\">\n",
              "      <div>\n",
              "<style scoped>\n",
              "    .dataframe tbody tr th:only-of-type {\n",
              "        vertical-align: middle;\n",
              "    }\n",
              "\n",
              "    .dataframe tbody tr th {\n",
              "        vertical-align: top;\n",
              "    }\n",
              "\n",
              "    .dataframe thead th {\n",
              "        text-align: right;\n",
              "    }\n",
              "</style>\n",
              "<table border=\"1\" class=\"dataframe\">\n",
              "  <thead>\n",
              "    <tr style=\"text-align: right;\">\n",
              "      <th></th>\n",
              "      <th>contrast</th>\n",
              "      <th>dissimilarity</th>\n",
              "      <th>correlation</th>\n",
              "      <th>energy</th>\n",
              "      <th>homogeneity</th>\n",
              "      <th>ASM</th>\n",
              "      <th>label</th>\n",
              "    </tr>\n",
              "  </thead>\n",
              "  <tbody>\n",
              "    <tr>\n",
              "      <th>0</th>\n",
              "      <td>0.020025</td>\n",
              "      <td>0.134799</td>\n",
              "      <td>0.869855</td>\n",
              "      <td>0.030868</td>\n",
              "      <td>0.410748</td>\n",
              "      <td>0.003909</td>\n",
              "      <td>0</td>\n",
              "    </tr>\n",
              "    <tr>\n",
              "      <th>1</th>\n",
              "      <td>0.022913</td>\n",
              "      <td>0.148384</td>\n",
              "      <td>0.919504</td>\n",
              "      <td>0.018559</td>\n",
              "      <td>0.369773</td>\n",
              "      <td>0.002143</td>\n",
              "      <td>0</td>\n",
              "    </tr>\n",
              "    <tr>\n",
              "      <th>2</th>\n",
              "      <td>0.008061</td>\n",
              "      <td>0.089653</td>\n",
              "      <td>0.979681</td>\n",
              "      <td>0.025450</td>\n",
              "      <td>0.559909</td>\n",
              "      <td>0.003119</td>\n",
              "      <td>0</td>\n",
              "    </tr>\n",
              "    <tr>\n",
              "      <th>3</th>\n",
              "      <td>0.043307</td>\n",
              "      <td>0.200334</td>\n",
              "      <td>0.954040</td>\n",
              "      <td>0.008647</td>\n",
              "      <td>0.284268</td>\n",
              "      <td>0.000922</td>\n",
              "      <td>0</td>\n",
              "    </tr>\n",
              "    <tr>\n",
              "      <th>4</th>\n",
              "      <td>0.032804</td>\n",
              "      <td>0.171285</td>\n",
              "      <td>0.757786</td>\n",
              "      <td>0.023506</td>\n",
              "      <td>0.345511</td>\n",
              "      <td>0.002819</td>\n",
              "      <td>0</td>\n",
              "    </tr>\n",
              "  </tbody>\n",
              "</table>\n",
              "</div>\n",
              "      <button class=\"colab-df-convert\" onclick=\"convertToInteractive('df-a98bd6c0-65b5-46ff-b8f1-844fd1c50ba5')\"\n",
              "              title=\"Convert this dataframe to an interactive table.\"\n",
              "              style=\"display:none;\">\n",
              "        \n",
              "  <svg xmlns=\"http://www.w3.org/2000/svg\" height=\"24px\"viewBox=\"0 0 24 24\"\n",
              "       width=\"24px\">\n",
              "    <path d=\"M0 0h24v24H0V0z\" fill=\"none\"/>\n",
              "    <path d=\"M18.56 5.44l.94 2.06.94-2.06 2.06-.94-2.06-.94-.94-2.06-.94 2.06-2.06.94zm-11 1L8.5 8.5l.94-2.06 2.06-.94-2.06-.94L8.5 2.5l-.94 2.06-2.06.94zm10 10l.94 2.06.94-2.06 2.06-.94-2.06-.94-.94-2.06-.94 2.06-2.06.94z\"/><path d=\"M17.41 7.96l-1.37-1.37c-.4-.4-.92-.59-1.43-.59-.52 0-1.04.2-1.43.59L10.3 9.45l-7.72 7.72c-.78.78-.78 2.05 0 2.83L4 21.41c.39.39.9.59 1.41.59.51 0 1.02-.2 1.41-.59l7.78-7.78 2.81-2.81c.8-.78.8-2.07 0-2.86zM5.41 20L4 18.59l7.72-7.72 1.47 1.35L5.41 20z\"/>\n",
              "  </svg>\n",
              "      </button>\n",
              "      \n",
              "  <style>\n",
              "    .colab-df-container {\n",
              "      display:flex;\n",
              "      flex-wrap:wrap;\n",
              "      gap: 12px;\n",
              "    }\n",
              "\n",
              "    .colab-df-convert {\n",
              "      background-color: #E8F0FE;\n",
              "      border: none;\n",
              "      border-radius: 50%;\n",
              "      cursor: pointer;\n",
              "      display: none;\n",
              "      fill: #1967D2;\n",
              "      height: 32px;\n",
              "      padding: 0 0 0 0;\n",
              "      width: 32px;\n",
              "    }\n",
              "\n",
              "    .colab-df-convert:hover {\n",
              "      background-color: #E2EBFA;\n",
              "      box-shadow: 0px 1px 2px rgba(60, 64, 67, 0.3), 0px 1px 3px 1px rgba(60, 64, 67, 0.15);\n",
              "      fill: #174EA6;\n",
              "    }\n",
              "\n",
              "    [theme=dark] .colab-df-convert {\n",
              "      background-color: #3B4455;\n",
              "      fill: #D2E3FC;\n",
              "    }\n",
              "\n",
              "    [theme=dark] .colab-df-convert:hover {\n",
              "      background-color: #434B5C;\n",
              "      box-shadow: 0px 1px 3px 1px rgba(0, 0, 0, 0.15);\n",
              "      filter: drop-shadow(0px 1px 2px rgba(0, 0, 0, 0.3));\n",
              "      fill: #FFFFFF;\n",
              "    }\n",
              "  </style>\n",
              "\n",
              "      <script>\n",
              "        const buttonEl =\n",
              "          document.querySelector('#df-a98bd6c0-65b5-46ff-b8f1-844fd1c50ba5 button.colab-df-convert');\n",
              "        buttonEl.style.display =\n",
              "          google.colab.kernel.accessAllowed ? 'block' : 'none';\n",
              "\n",
              "        async function convertToInteractive(key) {\n",
              "          const element = document.querySelector('#df-a98bd6c0-65b5-46ff-b8f1-844fd1c50ba5');\n",
              "          const dataTable =\n",
              "            await google.colab.kernel.invokeFunction('convertToInteractive',\n",
              "                                                     [key], {});\n",
              "          if (!dataTable) return;\n",
              "\n",
              "          const docLinkHtml = 'Like what you see? Visit the ' +\n",
              "            '<a target=\"_blank\" href=https://colab.research.google.com/notebooks/data_table.ipynb>data table notebook</a>'\n",
              "            + ' to learn more about interactive tables.';\n",
              "          element.innerHTML = '';\n",
              "          dataTable['output_type'] = 'display_data';\n",
              "          await google.colab.output.renderOutput(dataTable, element);\n",
              "          const docLink = document.createElement('div');\n",
              "          docLink.innerHTML = docLinkHtml;\n",
              "          element.appendChild(docLink);\n",
              "        }\n",
              "      </script>\n",
              "    </div>\n",
              "  </div>\n",
              "  "
            ]
          },
          "metadata": {},
          "execution_count": 4
        }
      ]
    },
    {
      "cell_type": "code",
      "source": [
        "no_acne_data = feats_df[feats_df.label==0].drop(['Unnamed: 0'], axis=1).to_numpy()\n",
        "acne_data = feats_df[feats_df.label==1].drop(['Unnamed: 0'], axis=1).to_numpy()\n",
        "print(len(no_acne_data), len(acne_data))"
      ],
      "metadata": {
        "colab": {
          "base_uri": "https://localhost:8080/"
        },
        "id": "FVfW6S0b1tpl",
        "outputId": "1376391e-2e23-451d-cb7c-e5b48ebb7940"
      },
      "execution_count": null,
      "outputs": [
        {
          "output_type": "stream",
          "name": "stdout",
          "text": [
            "908 870\n"
          ]
        }
      ]
    },
    {
      "cell_type": "code",
      "source": [
        "X_train_no_acne, X_test_no_acne, y_train_no_acne, y_test_no_acne = train_test_split(no_acne_data[:,:-1], no_acne_data[:,-1], test_size=0.2, random_state = 42)\n",
        "X_train_acne, X_test_acne, y_train_acne, y_test_acne = train_test_split(acne_data[:,:-1], acne_data[:,-1], test_size=0.2, random_state = 42)"
      ],
      "metadata": {
        "id": "vhTYFbAV2k0G"
      },
      "execution_count": null,
      "outputs": []
    },
    {
      "cell_type": "code",
      "source": [
        "n_components = np.arange(2, 20)\n",
        "no_acne_gmm = [GaussianMixture(n, covariance_type='full', random_state=0).fit(X_train_no_acne) for n in n_components]\n",
        "plt.plot(n_components, [m.bic(no_acne_data[:,:-1]) for m in no_acne_gmm], label='BIC')\n",
        "plt.legend(loc='best')\n",
        "plt.xlabel('n_components')\n",
        "plt.title('BIC of No Acne GMM')\n",
        "plt.show()"
      ],
      "metadata": {
        "colab": {
          "base_uri": "https://localhost:8080/",
          "height": 296
        },
        "id": "HhS5EYhV4kbi",
        "outputId": "7b6b87db-add7-48b9-f51b-686309875d82"
      },
      "execution_count": null,
      "outputs": [
        {
          "output_type": "display_data",
          "data": {
            "text/plain": [
              "<Figure size 432x288 with 1 Axes>"
            ],
            "image/png": "[encoded data removed]"
          },
          "metadata": {
            "needs_background": "light"
          }
        }
      ]
    },
    {
      "cell_type": "code",
      "source": [
        "n_components = np.arange(2, 20)\n",
        "acne_gmm = [GaussianMixture(n, covariance_type='full', random_state=0).fit(X_train_acne) for n in n_components]\n",
        "plt.plot(n_components, [m.bic(acne_data[:,:-1]) for m in acne_gmm], label='BIC')\n",
        "plt.legend(loc='best')\n",
        "plt.xlabel('n_components')\n",
        "plt.title('BIC of Acne GMM')\n",
        "plt.show()"
      ],
      "metadata": {
        "colab": {
          "base_uri": "https://localhost:8080/",
          "height": 296
        },
        "id": "zXZQpYtc83rC",
        "outputId": "bda50e24-0217-4f1b-b833-0335a046b8c4"
      },
      "execution_count": null,
      "outputs": [
        {
          "output_type": "display_data",
          "data": {
            "text/plain": [
              "<Figure size 432x288 with 1 Axes>"
            ],
            "image/png": "[encoded data removed]"
          },
          "metadata": {
            "needs_background": "light"
          }
        }
      ]
    },
    {
      "cell_type": "code",
      "source": [
        "best_no_acne_gmm = GaussianMixture(n_components=10, covariance_type='full', random_state=0).fit(X_train_no_acne)\n",
        "best_acne_gmm = GaussianMixture(n_components=7, covariance_type='full', random_state=0).fit(X_train_acne)"
      ],
      "metadata": {
        "id": "_iSPEKNw9kse"
      },
      "execution_count": null,
      "outputs": []
    },
    {
      "cell_type": "code",
      "source": [
        "scores = []\n",
        "test_concat = np.concatenate((X_test_acne, X_test_no_acne), axis=0)\n",
        "for i in test_concat:\n",
        "  proc_image = np.reshape(i, (1, -1))\n",
        "  no_acne_score = best_no_acne_gmm.score_samples(proc_image)\n",
        "  acne_score = best_acne_gmm.score_samples(proc_image)\n",
        "  res = acne_score > no_acne_score\n",
        "  \n",
        "  scores.append(res*1)"
      ],
      "metadata": {
        "id": "Kd-i3I6Y9dJL"
      },
      "execution_count": null,
      "outputs": []
    },
    {
      "cell_type": "code",
      "source": [
        "sc = np.concatenate(scores)\n",
        "sc_gt = np.concatenate((y_test_acne, y_test_no_acne), axis=0)\n",
        "\n",
        "test_acc = np.mean(sc.ravel() == sc_gt.ravel()) * 100\n",
        "test_acc"
      ],
      "metadata": {
        "colab": {
          "base_uri": "https://localhost:8080/"
        },
        "id": "QZIINPk390zZ",
        "outputId": "435b0710-a785-4a5e-e5eb-5cf803a11270"
      },
      "execution_count": null,
      "outputs": [
        {
          "output_type": "execute_result",
          "data": {
            "text/plain": [
              "95.2247191011236"
            ]
          },
          "metadata": {},
          "execution_count": 14
        }
      ]
    },
    {
      "cell_type": "code",
      "source": [
        "# save to file\n",
        "gmm_name = '/content/drive/MyDrive/DatasetTA_Playground/experiments/gmm_models/gmm_no_acne'"
      ],
      "metadata": {
        "id": "K5G2OcMX8-pU"
      },
      "execution_count": null,
      "outputs": []
    },
    {
      "cell_type": "code",
      "source": [
        "np.save(gmm_name + '_weights', best_no_acne_gmm.weights_, allow_pickle=False)\n",
        "np.save(gmm_name + '_means', best_no_acne_gmm.means_, allow_pickle=False)\n",
        "np.save(gmm_name + '_covariances', best_no_acne_gmm.covariances_, allow_pickle=False)"
      ],
      "metadata": {
        "id": "MGNfmAvr39Cv"
      },
      "execution_count": null,
      "outputs": []
    },
    {
      "cell_type": "code",
      "source": [
        "# reload\n",
        "acne_means = np.load(gmm_name + 'gmm_acne_means.npy')\n",
        "acne_covar = np.load(gmm_name + 'gmm_acne_covariances.npy')\n",
        "loaded_acne_gmm = GaussianMixture(n_components = len(acne_means), covariance_type='full')\n",
        "loaded_acne_gmm.precisions_cholesky_ = np.linalg.cholesky(np.linalg.inv(acne_covar))\n",
        "loaded_acne_gmm.weights_ = np.load(gmm_name + 'gmm_acne_weights.npy')\n",
        "loaded_acne_gmm.means_ = acne_means\n",
        "loaded_acne_gmm.covariances_ = acne_covar\n",
        "\n",
        "no_acne_means = np.load(gmm_name + 'gmm_no_acne_means.npy')\n",
        "no_acne_covar = np.load(gmm_name + 'gmm_no_acne_covariances.npy')\n",
        "loaded_no_acne_gmm = GaussianMixture(n_components = len(no_acne_means), covariance_type='full')\n",
        "loaded_no_acne_gmm.precisions_cholesky_ = np.linalg.cholesky(np.linalg.inv(no_acne_covar))\n",
        "loaded_no_acne_gmm.weights_ = np.load(gmm_name + 'gmm_no_acne_weights.npy')\n",
        "loaded_no_acne_gmm.means_ = no_acne_means\n",
        "loaded_no_acne_gmm.covariances_ = no_acne_covar"
      ],
      "metadata": {
        "id": "vPqaZoWd8U4Q"
      },
      "execution_count": null,
      "outputs": []
    },
    {
      "cell_type": "code",
      "source": [
        "scores_2 = []\n",
        "for i in test_concat:\n",
        "  proc_image = np.reshape(i, (1, -1))\n",
        "  no_acne_score = loaded_no_acne_gmm.score_samples(proc_image)\n",
        "  acne_score = loaded_acne_gmm.score_samples(proc_image)\n",
        "  res = acne_score > no_acne_score\n",
        "  \n",
        "  scores_2.append(res*1)\n",
        "\n",
        "sc_2 = np.concatenate(scores_2)\n",
        "sc_gt = np.concatenate((y_test_acne, y_test_no_acne), axis=0)\n",
        "\n",
        "test_acc_2 = np.mean(sc_2.ravel() == sc_gt.ravel()) * 100\n",
        "test_acc_2"
      ],
      "metadata": {
        "colab": {
          "base_uri": "https://localhost:8080/"
        },
        "id": "cesYx3jK9Tp2",
        "outputId": "481e518b-b4b3-420d-d752-05d79d84361f"
      },
      "execution_count": null,
      "outputs": [
        {
          "output_type": "execute_result",
          "data": {
            "text/plain": [
              "87.64044943820225"
            ]
          },
          "metadata": {},
          "execution_count": 118
        }
      ]
    }
  ]
}