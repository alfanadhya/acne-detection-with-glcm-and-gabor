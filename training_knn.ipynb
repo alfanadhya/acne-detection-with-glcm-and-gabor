{
  "nbformat": 4,
  "nbformat_minor": 0,
  "metadata": {
    "colab": {
      "name": "training_knn.ipynb",
      "provenance": [],
      "authorship_tag": "ABX9TyMH3+BTMm7IVFSKNDd7/faY",
      "include_colab_link": true
    },
    "kernelspec": {
      "name": "python3",
      "display_name": "Python 3"
    },
    "language_info": {
      "name": "python"
    }
  },
  "cells": [
    {
      "cell_type": "markdown",
      "metadata": {
        "id": "view-in-github",
        "colab_type": "text"
      },
      "source": [
        "<a href=\"https://colab.research.google.com/github/alfanadhya/acne-detection-with-glcm-and-gabor/blob/main/training_knn.ipynb\" target=\"_parent\"><img src=\"https://colab.research.google.com/assets/colab-badge.svg\" alt=\"Open In Colab\"/></a>"
      ]
    },
    {
      "cell_type": "code",
      "execution_count": null,
      "metadata": {
        "colab": {
          "base_uri": "https://localhost:8080/"
        },
        "id": "eprt5GUVhpgu",
        "outputId": "8acd27c0-0a7b-4189-bdbf-7c72f5530d35"
      },
      "outputs": [
        {
          "output_type": "stream",
          "name": "stdout",
          "text": [
            "Mounted at /content/drive\n"
          ]
        }
      ],
      "source": [
        "from google.colab import drive\n",
        "drive.mount('/content/drive')"
      ]
    },
    {
      "cell_type": "code",
      "source": [
        "# LIBRARIES\n",
        "from sklearn import preprocessing\n",
        "import numpy as np\n",
        "import pandas as pd\n",
        "import matplotlib.pyplot as plt\n",
        "\n",
        "from sklearn.model_selection import train_test_split\n",
        "from sklearn.neighbors import KNeighborsClassifier \n",
        "from sklearn.metrics import accuracy_score\n",
        "\n",
        "# to save model\n",
        "import joblib"
      ],
      "metadata": {
        "id": "01NiW357ivcw"
      },
      "execution_count": null,
      "outputs": []
    },
    {
      "cell_type": "code",
      "source": [
        "# Load features\n",
        "feats_path = '/content/drive/MyDrive/DatasetTA_Playground/experiments/features/glcm_features_grayscale_16.xlsx'\n",
        "feats_df = pd.read_excel(feats_path)"
      ],
      "metadata": {
        "id": "gmHItr9oh7oT"
      },
      "execution_count": null,
      "outputs": []
    },
    {
      "cell_type": "code",
      "source": [
        "feats_df.iloc[:,1:-1]"
      ],
      "metadata": {
        "colab": {
          "base_uri": "https://localhost:8080/",
          "height": 423
        },
        "id": "NJk1jdJZ4MRN",
        "outputId": "82cd6080-98d4-4e5e-c259-e9d3e60d02f8"
      },
      "execution_count": null,
      "outputs": [
        {
          "output_type": "execute_result",
          "data": {
            "text/plain": [
              "             0         1         2         3         4         5         6  \\\n",
              "0     0.007987  0.005550  0.003172  0.005464  0.942061  0.916175  0.951749   \n",
              "1     0.016140  0.007049  0.004903  0.011991  0.938657  0.943034  0.963100   \n",
              "2     0.031780  0.011324  0.010382  0.029598  0.982990  0.987310  0.989135   \n",
              "3     0.039434  0.023398  0.004182  0.012826  0.961648  0.953420  0.992064   \n",
              "4     0.007321  0.008324  0.006633  0.008955  0.937774  0.856328  0.886600   \n",
              "...        ...       ...       ...       ...       ...       ...       ...   \n",
              "1773  0.000000  0.000000  0.000000  0.000000  1.000000  1.000000  1.000000   \n",
              "1774  0.017563  0.013126  0.005337  0.008302  0.868641  0.787437  0.918826   \n",
              "1775  0.009033  0.004571  0.001245  0.004626  0.707560  0.688293  0.919993   \n",
              "1776  0.000000  0.000000  0.000000  0.000000  1.000000  1.000000  1.000000   \n",
              "1777  0.009936  0.022775  0.016743  0.015221  0.983558  0.915816  0.937279   \n",
              "\n",
              "             7         8         9        10        11        12        13  \\\n",
              "0     0.918274  0.485196  0.446894  0.436549  0.449300  0.936842  0.897507   \n",
              "1     0.905612  0.377276  0.371594  0.355877  0.336482  0.872368  0.869806   \n",
              "2     0.967620  0.195960  0.213377  0.142627  0.168121  0.758158  0.810803   \n",
              "3     0.974624  0.265203  0.251422  0.285388  0.282141  0.748158  0.687535   \n",
              "4     0.848227  0.499071  0.412640  0.387995  0.405801  0.942105  0.849584   \n",
              "...        ...       ...       ...       ...       ...       ...       ...   \n",
              "1773  1.000000  1.000000  1.000000  1.000000  1.000000  1.000000  1.000000   \n",
              "1774  0.863070  0.437996  0.375287  0.413202  0.416046  0.877778  0.775758   \n",
              "1775  0.688293  0.670905  0.667853  0.698387  0.667853  0.928571  0.915584   \n",
              "1776  1.000000  1.000000  1.000000  1.000000  1.000000  1.000000  1.000000   \n",
              "1777  0.942891  0.456137  0.385554  0.345391  0.396984  0.921429  0.674603   \n",
              "\n",
              "            14        15  \n",
              "0     0.935058  0.900277  \n",
              "1     0.899636  0.794460  \n",
              "2     0.808717  0.626039  \n",
              "3     0.914395  0.802493  \n",
              "4     0.864213  0.839889  \n",
              "...        ...       ...  \n",
              "1773  1.000000  1.000000  \n",
              "1774  0.890742  0.848485  \n",
              "1775  0.974506  0.915584  \n",
              "1776  1.000000  1.000000  \n",
              "1777  0.675948  0.760317  \n",
              "\n",
              "[1778 rows x 16 columns]"
            ],
            "text/html": [
              "\n",
              "  <div id=\"df-83007ea0-2103-4d44-a272-33dfe145585c\">\n",
              "    <div class=\"colab-df-container\">\n",
              "      <div>\n",
              "<style scoped>\n",
              "    .dataframe tbody tr th:only-of-type {\n",
              "        vertical-align: middle;\n",
              "    }\n",
              "\n",
              "    .dataframe tbody tr th {\n",
              "        vertical-align: top;\n",
              "    }\n",
              "\n",
              "    .dataframe thead th {\n",
              "        text-align: right;\n",
              "    }\n",
              "</style>\n",
              "<table border=\"1\" class=\"dataframe\">\n",
              "  <thead>\n",
              "    <tr style=\"text-align: right;\">\n",
              "      <th></th>\n",
              "      <th>0</th>\n",
              "      <th>1</th>\n",
              "      <th>2</th>\n",
              "      <th>3</th>\n",
              "      <th>4</th>\n",
              "      <th>5</th>\n",
              "      <th>6</th>\n",
              "      <th>7</th>\n",
              "      <th>8</th>\n",
              "      <th>9</th>\n",
              "      <th>10</th>\n",
              "      <th>11</th>\n",
              "      <th>12</th>\n",
              "      <th>13</th>\n",
              "      <th>14</th>\n",
              "      <th>15</th>\n",
              "    </tr>\n",
              "  </thead>\n",
              "  <tbody>\n",
              "    <tr>\n",
              "      <th>0</th>\n",
              "      <td>0.007987</td>\n",
              "      <td>0.005550</td>\n",
              "      <td>0.003172</td>\n",
              "      <td>0.005464</td>\n",
              "      <td>0.942061</td>\n",
              "      <td>0.916175</td>\n",
              "      <td>0.951749</td>\n",
              "      <td>0.918274</td>\n",
              "      <td>0.485196</td>\n",
              "      <td>0.446894</td>\n",
              "      <td>0.436549</td>\n",
              "      <td>0.449300</td>\n",
              "      <td>0.936842</td>\n",
              "      <td>0.897507</td>\n",
              "      <td>0.935058</td>\n",
              "      <td>0.900277</td>\n",
              "    </tr>\n",
              "    <tr>\n",
              "      <th>1</th>\n",
              "      <td>0.016140</td>\n",
              "      <td>0.007049</td>\n",
              "      <td>0.004903</td>\n",
              "      <td>0.011991</td>\n",
              "      <td>0.938657</td>\n",
              "      <td>0.943034</td>\n",
              "      <td>0.963100</td>\n",
              "      <td>0.905612</td>\n",
              "      <td>0.377276</td>\n",
              "      <td>0.371594</td>\n",
              "      <td>0.355877</td>\n",
              "      <td>0.336482</td>\n",
              "      <td>0.872368</td>\n",
              "      <td>0.869806</td>\n",
              "      <td>0.899636</td>\n",
              "      <td>0.794460</td>\n",
              "    </tr>\n",
              "    <tr>\n",
              "      <th>2</th>\n",
              "      <td>0.031780</td>\n",
              "      <td>0.011324</td>\n",
              "      <td>0.010382</td>\n",
              "      <td>0.029598</td>\n",
              "      <td>0.982990</td>\n",
              "      <td>0.987310</td>\n",
              "      <td>0.989135</td>\n",
              "      <td>0.967620</td>\n",
              "      <td>0.195960</td>\n",
              "      <td>0.213377</td>\n",
              "      <td>0.142627</td>\n",
              "      <td>0.168121</td>\n",
              "      <td>0.758158</td>\n",
              "      <td>0.810803</td>\n",
              "      <td>0.808717</td>\n",
              "      <td>0.626039</td>\n",
              "    </tr>\n",
              "    <tr>\n",
              "      <th>3</th>\n",
              "      <td>0.039434</td>\n",
              "      <td>0.023398</td>\n",
              "      <td>0.004182</td>\n",
              "      <td>0.012826</td>\n",
              "      <td>0.961648</td>\n",
              "      <td>0.953420</td>\n",
              "      <td>0.992064</td>\n",
              "      <td>0.974624</td>\n",
              "      <td>0.265203</td>\n",
              "      <td>0.251422</td>\n",
              "      <td>0.285388</td>\n",
              "      <td>0.282141</td>\n",
              "      <td>0.748158</td>\n",
              "      <td>0.687535</td>\n",
              "      <td>0.914395</td>\n",
              "      <td>0.802493</td>\n",
              "    </tr>\n",
              "    <tr>\n",
              "      <th>4</th>\n",
              "      <td>0.007321</td>\n",
              "      <td>0.008324</td>\n",
              "      <td>0.006633</td>\n",
              "      <td>0.008955</td>\n",
              "      <td>0.937774</td>\n",
              "      <td>0.856328</td>\n",
              "      <td>0.886600</td>\n",
              "      <td>0.848227</td>\n",
              "      <td>0.499071</td>\n",
              "      <td>0.412640</td>\n",
              "      <td>0.387995</td>\n",
              "      <td>0.405801</td>\n",
              "      <td>0.942105</td>\n",
              "      <td>0.849584</td>\n",
              "      <td>0.864213</td>\n",
              "      <td>0.839889</td>\n",
              "    </tr>\n",
              "    <tr>\n",
              "      <th>...</th>\n",
              "      <td>...</td>\n",
              "      <td>...</td>\n",
              "      <td>...</td>\n",
              "      <td>...</td>\n",
              "      <td>...</td>\n",
              "      <td>...</td>\n",
              "      <td>...</td>\n",
              "      <td>...</td>\n",
              "      <td>...</td>\n",
              "      <td>...</td>\n",
              "      <td>...</td>\n",
              "      <td>...</td>\n",
              "      <td>...</td>\n",
              "      <td>...</td>\n",
              "      <td>...</td>\n",
              "      <td>...</td>\n",
              "    </tr>\n",
              "    <tr>\n",
              "      <th>1773</th>\n",
              "      <td>0.000000</td>\n",
              "      <td>0.000000</td>\n",
              "      <td>0.000000</td>\n",
              "      <td>0.000000</td>\n",
              "      <td>1.000000</td>\n",
              "      <td>1.000000</td>\n",
              "      <td>1.000000</td>\n",
              "      <td>1.000000</td>\n",
              "      <td>1.000000</td>\n",
              "      <td>1.000000</td>\n",
              "      <td>1.000000</td>\n",
              "      <td>1.000000</td>\n",
              "      <td>1.000000</td>\n",
              "      <td>1.000000</td>\n",
              "      <td>1.000000</td>\n",
              "      <td>1.000000</td>\n",
              "    </tr>\n",
              "    <tr>\n",
              "      <th>1774</th>\n",
              "      <td>0.017563</td>\n",
              "      <td>0.013126</td>\n",
              "      <td>0.005337</td>\n",
              "      <td>0.008302</td>\n",
              "      <td>0.868641</td>\n",
              "      <td>0.787437</td>\n",
              "      <td>0.918826</td>\n",
              "      <td>0.863070</td>\n",
              "      <td>0.437996</td>\n",
              "      <td>0.375287</td>\n",
              "      <td>0.413202</td>\n",
              "      <td>0.416046</td>\n",
              "      <td>0.877778</td>\n",
              "      <td>0.775758</td>\n",
              "      <td>0.890742</td>\n",
              "      <td>0.848485</td>\n",
              "    </tr>\n",
              "    <tr>\n",
              "      <th>1775</th>\n",
              "      <td>0.009033</td>\n",
              "      <td>0.004571</td>\n",
              "      <td>0.001245</td>\n",
              "      <td>0.004626</td>\n",
              "      <td>0.707560</td>\n",
              "      <td>0.688293</td>\n",
              "      <td>0.919993</td>\n",
              "      <td>0.688293</td>\n",
              "      <td>0.670905</td>\n",
              "      <td>0.667853</td>\n",
              "      <td>0.698387</td>\n",
              "      <td>0.667853</td>\n",
              "      <td>0.928571</td>\n",
              "      <td>0.915584</td>\n",
              "      <td>0.974506</td>\n",
              "      <td>0.915584</td>\n",
              "    </tr>\n",
              "    <tr>\n",
              "      <th>1776</th>\n",
              "      <td>0.000000</td>\n",
              "      <td>0.000000</td>\n",
              "      <td>0.000000</td>\n",
              "      <td>0.000000</td>\n",
              "      <td>1.000000</td>\n",
              "      <td>1.000000</td>\n",
              "      <td>1.000000</td>\n",
              "      <td>1.000000</td>\n",
              "      <td>1.000000</td>\n",
              "      <td>1.000000</td>\n",
              "      <td>1.000000</td>\n",
              "      <td>1.000000</td>\n",
              "      <td>1.000000</td>\n",
              "      <td>1.000000</td>\n",
              "      <td>1.000000</td>\n",
              "      <td>1.000000</td>\n",
              "    </tr>\n",
              "    <tr>\n",
              "      <th>1777</th>\n",
              "      <td>0.009936</td>\n",
              "      <td>0.022775</td>\n",
              "      <td>0.016743</td>\n",
              "      <td>0.015221</td>\n",
              "      <td>0.983558</td>\n",
              "      <td>0.915816</td>\n",
              "      <td>0.937279</td>\n",
              "      <td>0.942891</td>\n",
              "      <td>0.456137</td>\n",
              "      <td>0.385554</td>\n",
              "      <td>0.345391</td>\n",
              "      <td>0.396984</td>\n",
              "      <td>0.921429</td>\n",
              "      <td>0.674603</td>\n",
              "      <td>0.675948</td>\n",
              "      <td>0.760317</td>\n",
              "    </tr>\n",
              "  </tbody>\n",
              "</table>\n",
              "<p>1778 rows × 16 columns</p>\n",
              "</div>\n",
              "      <button class=\"colab-df-convert\" onclick=\"convertToInteractive('df-83007ea0-2103-4d44-a272-33dfe145585c')\"\n",
              "              title=\"Convert this dataframe to an interactive table.\"\n",
              "              style=\"display:none;\">\n",
              "        \n",
              "  <svg xmlns=\"http://www.w3.org/2000/svg\" height=\"24px\"viewBox=\"0 0 24 24\"\n",
              "       width=\"24px\">\n",
              "    <path d=\"M0 0h24v24H0V0z\" fill=\"none\"/>\n",
              "    <path d=\"M18.56 5.44l.94 2.06.94-2.06 2.06-.94-2.06-.94-.94-2.06-.94 2.06-2.06.94zm-11 1L8.5 8.5l.94-2.06 2.06-.94-2.06-.94L8.5 2.5l-.94 2.06-2.06.94zm10 10l.94 2.06.94-2.06 2.06-.94-2.06-.94-.94-2.06-.94 2.06-2.06.94z\"/><path d=\"M17.41 7.96l-1.37-1.37c-.4-.4-.92-.59-1.43-.59-.52 0-1.04.2-1.43.59L10.3 9.45l-7.72 7.72c-.78.78-.78 2.05 0 2.83L4 21.41c.39.39.9.59 1.41.59.51 0 1.02-.2 1.41-.59l7.78-7.78 2.81-2.81c.8-.78.8-2.07 0-2.86zM5.41 20L4 18.59l7.72-7.72 1.47 1.35L5.41 20z\"/>\n",
              "  </svg>\n",
              "      </button>\n",
              "      \n",
              "  <style>\n",
              "    .colab-df-container {\n",
              "      display:flex;\n",
              "      flex-wrap:wrap;\n",
              "      gap: 12px;\n",
              "    }\n",
              "\n",
              "    .colab-df-convert {\n",
              "      background-color: #E8F0FE;\n",
              "      border: none;\n",
              "      border-radius: 50%;\n",
              "      cursor: pointer;\n",
              "      display: none;\n",
              "      fill: #1967D2;\n",
              "      height: 32px;\n",
              "      padding: 0 0 0 0;\n",
              "      width: 32px;\n",
              "    }\n",
              "\n",
              "    .colab-df-convert:hover {\n",
              "      background-color: #E2EBFA;\n",
              "      box-shadow: 0px 1px 2px rgba(60, 64, 67, 0.3), 0px 1px 3px 1px rgba(60, 64, 67, 0.15);\n",
              "      fill: #174EA6;\n",
              "    }\n",
              "\n",
              "    [theme=dark] .colab-df-convert {\n",
              "      background-color: #3B4455;\n",
              "      fill: #D2E3FC;\n",
              "    }\n",
              "\n",
              "    [theme=dark] .colab-df-convert:hover {\n",
              "      background-color: #434B5C;\n",
              "      box-shadow: 0px 1px 3px 1px rgba(0, 0, 0, 0.15);\n",
              "      filter: drop-shadow(0px 1px 2px rgba(0, 0, 0, 0.3));\n",
              "      fill: #FFFFFF;\n",
              "    }\n",
              "  </style>\n",
              "\n",
              "      <script>\n",
              "        const buttonEl =\n",
              "          document.querySelector('#df-83007ea0-2103-4d44-a272-33dfe145585c button.colab-df-convert');\n",
              "        buttonEl.style.display =\n",
              "          google.colab.kernel.accessAllowed ? 'block' : 'none';\n",
              "\n",
              "        async function convertToInteractive(key) {\n",
              "          const element = document.querySelector('#df-83007ea0-2103-4d44-a272-33dfe145585c');\n",
              "          const dataTable =\n",
              "            await google.colab.kernel.invokeFunction('convertToInteractive',\n",
              "                                                     [key], {});\n",
              "          if (!dataTable) return;\n",
              "\n",
              "          const docLinkHtml = 'Like what you see? Visit the ' +\n",
              "            '<a target=\"_blank\" href=https://colab.research.google.com/notebooks/data_table.ipynb>data table notebook</a>'\n",
              "            + ' to learn more about interactive tables.';\n",
              "          element.innerHTML = '';\n",
              "          dataTable['output_type'] = 'display_data';\n",
              "          await google.colab.output.renderOutput(dataTable, element);\n",
              "          const docLink = document.createElement('div');\n",
              "          docLink.innerHTML = docLinkHtml;\n",
              "          element.appendChild(docLink);\n",
              "        }\n",
              "      </script>\n",
              "    </div>\n",
              "  </div>\n",
              "  "
            ]
          },
          "metadata": {},
          "execution_count": 4
        }
      ]
    },
    {
      "cell_type": "code",
      "source": [
        "X = feats_df.iloc[:,1:-1]\n",
        "y = feats_df.iloc[:,-1]\n",
        "X_train, X_test, y_train, y_test = train_test_split(X, y, test_size = 0.20, random_state = 42)"
      ],
      "metadata": {
        "id": "MMBQyv8Lj79r"
      },
      "execution_count": null,
      "outputs": []
    },
    {
      "cell_type": "code",
      "source": [
        "# try K and record testing accuracy\n",
        "k_range = range(1, 60)\n",
        "\n",
        "knn_scores = []\n",
        "knn_models = []\n",
        "for k in k_range:\n",
        "    knn = KNeighborsClassifier(n_neighbors=k)\n",
        "    knn.fit(X_train, y_train)\n",
        "    knn_models.append(knn)\n",
        "\n",
        "    y_pred = knn.predict(X_test)\n",
        "    knn_scores.append(accuracy_score(y_test, y_pred))\n",
        "\n",
        "best_k = knn_scores.index(max(knn_scores))\n",
        "print(best_k+1, max(knn_scores))\n",
        "\n",
        "plt.plot(knn_scores)\n",
        "plt.xlabel('number of k')\n",
        "plt.ylabel('accuracy')\n",
        "plt.xlim([1, 59])\n",
        "plt.title('KNN Testing Accuracy - YCrCb 16')"
      ],
      "metadata": {
        "colab": {
          "base_uri": "https://localhost:8080/",
          "height": 330
        },
        "id": "V-_7Ri1EoAsV",
        "outputId": "d6515fc6-b3e3-4d67-8c42-978e3308c849"
      },
      "execution_count": null,
      "outputs": [
        {
          "output_type": "stream",
          "name": "stdout",
          "text": [
            "3 0.8455056179775281\n"
          ]
        },
        {
          "output_type": "execute_result",
          "data": {
            "text/plain": [
              "Text(0.5, 1.0, 'KNN Testing Accuracy - YCrCb 16')"
            ]
          },
          "metadata": {},
          "execution_count": 25
        },
        {
          "output_type": "display_data",
          "data": {
            "text/plain": [
              "<Figure size 432x288 with 1 Axes>"
            ],
            "image/png": "[encoded data removed]"
          },
          "metadata": {
            "needs_background": "light"
          }
        }
      ]
    },
    {
      "cell_type": "code",
      "source": [
        "joblib.dump(knn_models[best_k], '/content/drive/MyDrive/DatasetTA_Playground/experiments/knn_models/knn_grayscale_16.pkl')"
      ],
      "metadata": {
        "colab": {
          "base_uri": "https://localhost:8080/"
        },
        "id": "9EvOiXn5AQTG",
        "outputId": "a670dd97-6215-45c8-e954-e9e899284a5c"
      },
      "execution_count": null,
      "outputs": [
        {
          "output_type": "execute_result",
          "data": {
            "text/plain": [
              "['/content/drive/MyDrive/DatasetTA_Playground/experiments/knn_models/knn_grayscale_16.pkl']"
            ]
          },
          "metadata": {},
          "execution_count": 26
        }
      ]
    },
    {
      "cell_type": "markdown",
      "source": [
        "## Coba SVM dan Naive Bayes"
      ],
      "metadata": {
        "id": "E-fBsHEf0Qb1"
      }
    },
    {
      "cell_type": "code",
      "source": [
        "from sklearn.svm import SVC\n",
        "SVC_clf = SVC(kernel = 'linear')\n",
        "\n",
        "SVC_clf.fit(X_train, y_train)\n",
        "SVC_y_pred = SVC_clf.predict(X_test)\n",
        "\n",
        "svm_score = accuracy_score(y_test, SVC_y_pred)\n",
        "svm_score"
      ],
      "metadata": {
        "colab": {
          "base_uri": "https://localhost:8080/"
        },
        "id": "uqZesJ0Vs3dl",
        "outputId": "4945401a-c9ee-469c-f8b3-bb67a91bfa79"
      },
      "execution_count": null,
      "outputs": [
        {
          "output_type": "execute_result",
          "data": {
            "text/plain": [
              "0.6938202247191011"
            ]
          },
          "metadata": {},
          "execution_count": 72
        }
      ]
    },
    {
      "cell_type": "code",
      "source": [
        "from sklearn.naive_bayes import GaussianNB\n",
        "\n",
        "#Create a Gaussian Classifier\n",
        "nb = GaussianNB()\n",
        "\n",
        "# Train the model using the training sets\n",
        "nb.fit(X_train, y_train)\n",
        "\n",
        "#Predict Output\n",
        "nb_pred = nb.predict(X_test)\n",
        "nb_score = accuracy_score(y_test, nb_pred)\n",
        "nb_score"
      ],
      "metadata": {
        "colab": {
          "base_uri": "https://localhost:8080/"
        },
        "id": "5LbdA5UIzbUL",
        "outputId": "fe524bde-ee4d-4be7-eca4-642c58bbf1f2"
      },
      "execution_count": null,
      "outputs": [
        {
          "output_type": "execute_result",
          "data": {
            "text/plain": [
              "0.6432584269662921"
            ]
          },
          "metadata": {},
          "execution_count": 73
        }
      ]
    }
  ]
}