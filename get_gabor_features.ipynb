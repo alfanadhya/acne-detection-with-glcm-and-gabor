{
  "nbformat": 4,
  "nbformat_minor": 0,
  "metadata": {
    "colab": {
      "name": "get_gabor_features.ipynb",
      "provenance": [],
      "authorship_tag": "ABX9TyNXeIsr2QaOXdjeQAVnvLOh",
      "include_colab_link": true
    },
    "kernelspec": {
      "name": "python3",
      "display_name": "Python 3"
    },
    "language_info": {
      "name": "python"
    }
  },
  "cells": [
    {
      "cell_type": "markdown",
      "metadata": {
        "id": "view-in-github",
        "colab_type": "text"
      },
      "source": [
        "<a href=\"https://colab.research.google.com/github/alfanadhya/acne-detection-with-glcm-and-gabor/blob/main/get_gabor_features.ipynb\" target=\"_parent\"><img src=\"https://colab.research.google.com/assets/colab-badge.svg\" alt=\"Open In Colab\"/></a>"
      ]
    },
    {
      "cell_type": "code",
      "execution_count": null,
      "metadata": {
        "colab": {
          "base_uri": "https://localhost:8080/"
        },
        "id": "26ewgBxWAP4I",
        "outputId": "5a1ba83f-9a7a-4681-dd2c-2b527e272713"
      },
      "outputs": [
        {
          "output_type": "stream",
          "name": "stdout",
          "text": [
            "Mounted at /content/drive\n"
          ]
        }
      ],
      "source": [
        "from google.colab import drive\n",
        "drive.mount('/content/drive')"
      ]
    },
    {
      "cell_type": "code",
      "source": [
        "# LIBRARIES\n",
        "\n",
        "# for feature normalization\n",
        "from sklearn import preprocessing\n",
        "\n",
        "import cv2\n",
        "import numpy as np\n",
        "import pandas as pd\n",
        "import matplotlib.pyplot as plt\n",
        "\n",
        "# to get file directory\n",
        "import glob\n",
        "from natsort import natsorted\n",
        "from os.path import join\n",
        "\n",
        "# to save scaler\n",
        "import joblib\n",
        "\n",
        "# to split training and test data\n",
        "from sklearn.model_selection import train_test_split\n",
        "\n",
        "# to create gmm\n",
        "from sklearn.mixture import GaussianMixture"
      ],
      "metadata": {
        "id": "b8PxsUCgQJIH"
      },
      "execution_count": null,
      "outputs": []
    },
    {
      "cell_type": "code",
      "source": [
        "# DATA\n",
        "acne_blocks_path = '/content/drive/MyDrive/DatasetTA_Playground/acne_blocks/'\n",
        "no_acne_blocks_path = '/content/drive/MyDrive/DatasetTA_Playground/skin_blocks/'\n",
        "\n",
        "acne_blocks_dir = natsorted(glob.glob(join(acne_blocks_path, '*.jpg')))\n",
        "no_acne_blocks_dir = natsorted(glob.glob(join(no_acne_blocks_path, '*.jpg')))"
      ],
      "metadata": {
        "id": "Qxn5r0eyQWUi"
      },
      "execution_count": null,
      "outputs": []
    },
    {
      "cell_type": "code",
      "source": [
        "acne_blocks = []\n",
        "\n",
        "for block in acne_blocks_dir:\n",
        "  acne_img = cv2.imread(block)\n",
        "  acne_blocks.append(cv2.cvtColor(acne_img, cv2.COLOR_BGR2GRAY))\n",
        "\n",
        "no_acne_blocks = []\n",
        "\n",
        "for block in no_acne_blocks_dir:\n",
        "  no_acne_img = cv2.imread(block)\n",
        "  no_acne_blocks.append(cv2.cvtColor(no_acne_img, cv2.COLOR_BGR2GRAY))"
      ],
      "metadata": {
        "id": "1U5ha5uGQY0P"
      },
      "execution_count": null,
      "outputs": []
    },
    {
      "cell_type": "code",
      "source": [
        "thetas = (0, np.pi/6, np.pi/4, np.pi/3, np.pi/2, 2*np.pi/3, 3*np.pi/4, 5*np.pi/6)\n",
        "#thetas = (0, np.pi/4, np.pi/2, 3*np.pi/4)\n",
        "k_size = (3,3)\n",
        "sigma = 1\n",
        "#sigmas = (1,2)\n",
        "psi = np.pi/2\n",
        "lambd = 0.8\n",
        "gamma = 0\n",
        "kernels = []\n",
        "c = 0\n",
        "for theta in thetas:\n",
        "  # for sigma in sigmas:\n",
        "    kernel = cv2.getGaborKernel(ksize=k_size, sigma=sigma, theta=theta, lambd=lambd, gamma=gamma, psi=psi)\n",
        "    kernels.append(kernel)\n",
        "    c = c+1"
      ],
      "metadata": {
        "id": "5BYMItqsff1y"
      },
      "execution_count": null,
      "outputs": []
    },
    {
      "cell_type": "code",
      "source": [
        "no_acne_data = np.zeros((len(no_acne_blocks), (len(kernels)*2)+1))\n",
        "acne_data = np.zeros((len(acne_blocks), (len(kernels)*2)+1))\n",
        "feats_mean = np.zeros(len(kernels), dtype=np.double)\n",
        "feats_var = np.zeros(len(kernels), dtype=np.double)\n",
        "\n",
        "for counter, block in enumerate(no_acne_blocks):\n",
        "  for k, kernel in enumerate(kernels):\n",
        "    res = cv2.filter2D(block, ddepth=0, kernel=kernel)\n",
        "    feats_mean[k] = res.mean()\n",
        "    feats_var[k] = res.var()\n",
        "  no_acne_data[counter, :no_acne_data.shape[1]-1] = np.concatenate((feats_mean, feats_var))\n",
        "  no_acne_data[counter, -1] = 0\n",
        "\n",
        "for counter, block in enumerate(acne_blocks):\n",
        "  for k, kernel in enumerate(kernels):\n",
        "    res = cv2.filter2D(block, ddepth=0, kernel=kernel)\n",
        "    feats_mean[k] = res.mean()\n",
        "    feats_var[k] = res.var()\n",
        "  acne_data[counter, :acne_data.shape[1]-1] = np.concatenate((feats_mean, feats_var))\n",
        "  acne_data[counter, -1] = 1"
      ],
      "metadata": {
        "id": "HwXZ8tCrgFQr"
      },
      "execution_count": null,
      "outputs": []
    },
    {
      "cell_type": "code",
      "source": [
        "no_acne_df = pd.DataFrame(no_acne_data)\n",
        "acne_df = pd.DataFrame(acne_data)"
      ],
      "metadata": {
        "id": "XBAqwHlhUyRt"
      },
      "execution_count": null,
      "outputs": []
    },
    {
      "cell_type": "code",
      "source": [
        "# Create scaler\n",
        "scaler = preprocessing.MinMaxScaler()\n",
        "\n",
        "# Normalization\n",
        "scaled_data = scaler.fit_transform(np.concatenate((no_acne_data[:,:-1],acne_data[:,:-1]), axis=0))\n",
        "#scaled_acne_data = scaler.fit_transform(acne_data[:,:-1])"
      ],
      "metadata": {
        "id": "oLdrY1JebNEn"
      },
      "execution_count": null,
      "outputs": []
    },
    {
      "cell_type": "code",
      "source": [
        "# Save normalization scaler\n",
        "joblib.dump(scaler, '/content/drive/MyDrive/DatasetTA_Playground/experiments/knn_models/scaler_knn_gabor.pkl')"
      ],
      "metadata": {
        "colab": {
          "base_uri": "https://localhost:8080/"
        },
        "id": "yBzGch07c_G4",
        "outputId": "0eaef3f2-2533-4428-c6ea-b26883a93e98"
      },
      "execution_count": null,
      "outputs": [
        {
          "output_type": "execute_result",
          "data": {
            "text/plain": [
              "['/content/drive/MyDrive/DatasetTA_Playground/experiments/knn_models/scaler_knn_gabor.pkl']"
            ]
          },
          "metadata": {},
          "execution_count": 93
        }
      ]
    },
    {
      "cell_type": "code",
      "source": [
        "scaled_data.shape"
      ],
      "metadata": {
        "colab": {
          "base_uri": "https://localhost:8080/"
        },
        "id": "6AeEDOO81byq",
        "outputId": "371a83ed-ab8e-4715-c401-661185d08986"
      },
      "execution_count": null,
      "outputs": [
        {
          "output_type": "execute_result",
          "data": {
            "text/plain": [
              "(1778, 16)"
            ]
          },
          "metadata": {},
          "execution_count": 83
        }
      ]
    },
    {
      "cell_type": "markdown",
      "source": [
        "## Train GMM Classifier"
      ],
      "metadata": {
        "id": "03BOCH5E0Qxh"
      }
    },
    {
      "cell_type": "code",
      "source": [
        "X_train_no_acne, X_test_no_acne, y_train_no_acne, y_test_no_acne = train_test_split(scaled_data[:908], no_acne_data[:,-1], test_size=0.2, random_state = 42)\n",
        "X_train_acne, X_test_acne, y_train_acne, y_test_acne = train_test_split(scaled_data[908:], acne_data[:,-1], test_size=0.2, random_state = 42)"
      ],
      "metadata": {
        "id": "hMJftyBo0F-L"
      },
      "execution_count": null,
      "outputs": []
    },
    {
      "cell_type": "code",
      "source": [
        "n_components = np.arange(2, 20)\n",
        "no_acne_gmm = [GaussianMixture(n, covariance_type='full', random_state=0).fit(X_train_no_acne) for n in n_components]\n",
        "plt.plot(n_components, [m.bic(scaled_data[:908]) for m in no_acne_gmm], label='BIC')\n",
        "plt.legend(loc='best')\n",
        "plt.xlabel('n_components')\n",
        "plt.title('BIC of No Acne GMM - Gabor')\n",
        "plt.show()"
      ],
      "metadata": {
        "colab": {
          "base_uri": "https://localhost:8080/",
          "height": 296
        },
        "id": "rNwdrMIs07TS",
        "outputId": "fce22c5a-76cf-47d6-f9e3-e81739bd00e1"
      },
      "execution_count": null,
      "outputs": [
        {
          "output_type": "display_data",
          "data": {
            "text/plain": [
              "<Figure size 432x288 with 1 Axes>"
            ],
            "image/png": "[encoded data removed]"
          },
          "metadata": {
            "needs_background": "light"
          }
        }
      ]
    },
    {
      "cell_type": "code",
      "source": [
        "n_components = np.arange(2, 20)\n",
        "acne_gmm = [GaussianMixture(n, covariance_type='full', random_state=0).fit(X_train_acne) for n in n_components]\n",
        "plt.plot(n_components, [m.bic(scaled_data[908:]) for m in acne_gmm], label='BIC')\n",
        "plt.legend(loc='best')\n",
        "plt.xlabel('n_components')\n",
        "plt.title('BIC of Acne GMM - Gabor')\n",
        "plt.show()"
      ],
      "metadata": {
        "colab": {
          "base_uri": "https://localhost:8080/",
          "height": 296
        },
        "id": "idrLp5pu13XH",
        "outputId": "a74c187f-3110-4972-bd26-77a682bd94ee"
      },
      "execution_count": null,
      "outputs": [
        {
          "output_type": "display_data",
          "data": {
            "text/plain": [
              "<Figure size 432x288 with 1 Axes>"
            ],
            "image/png": "[encoded data removed]"
          },
          "metadata": {
            "needs_background": "light"
          }
        }
      ]
    },
    {
      "cell_type": "code",
      "source": [
        "best_no_acne_gmm = GaussianMixture(n_components=3, covariance_type='full', random_state=0).fit(X_train_no_acne)\n",
        "best_acne_gmm = GaussianMixture(n_components=3, covariance_type='full', random_state=0).fit(X_train_acne)"
      ],
      "metadata": {
        "id": "BjUSa82T6m0d"
      },
      "execution_count": null,
      "outputs": []
    },
    {
      "cell_type": "code",
      "source": [
        "scores = []\n",
        "test_concat = np.concatenate((X_test_acne, X_test_no_acne), axis=0)\n",
        "for i in test_concat:\n",
        "  proc_image = np.reshape(i, (1, -1))\n",
        "  no_acne_score = best_no_acne_gmm.score_samples(proc_image)\n",
        "  acne_score = best_acne_gmm.score_samples(proc_image)\n",
        "  res = acne_score > no_acne_score\n",
        "  \n",
        "  scores.append(res*1)"
      ],
      "metadata": {
        "id": "k9epJ0sE6sVx"
      },
      "execution_count": null,
      "outputs": []
    },
    {
      "cell_type": "code",
      "source": [
        "sc = np.concatenate(scores)\n",
        "sc_gt = np.concatenate((y_test_acne, y_test_no_acne), axis=0)\n",
        "\n",
        "test_acc = np.mean(sc.ravel() == sc_gt.ravel()) * 100\n",
        "test_acc"
      ],
      "metadata": {
        "colab": {
          "base_uri": "https://localhost:8080/"
        },
        "id": "lzWgxRi_6vp9",
        "outputId": "3ae04072-cc55-46b1-d464-496800a684e7"
      },
      "execution_count": null,
      "outputs": [
        {
          "output_type": "execute_result",
          "data": {
            "text/plain": [
              "67.13483146067416"
            ]
          },
          "metadata": {},
          "execution_count": 89
        }
      ]
    },
    {
      "cell_type": "code",
      "source": [
        "# save to file\n",
        "'''\n",
        "gmm_name = '/content/drive/MyDrive/DatasetTA_Playground/experiments/gmm_models/gmm_gabor_no_acne'\n",
        "\n",
        "np.save(gmm_name + '_weights', best_no_acne_gmm.weights_, allow_pickle=False)\n",
        "np.save(gmm_name + '_means', best_no_acne_gmm.means_, allow_pickle=False)\n",
        "np.save(gmm_name + '_covariances', best_no_acne_gmm.covariances_, allow_pickle=False)\n",
        "'''"
      ],
      "metadata": {
        "id": "SQj8OB03bQGW"
      },
      "execution_count": null,
      "outputs": []
    },
    {
      "cell_type": "markdown",
      "source": [
        "##Train KNN"
      ],
      "metadata": {
        "id": "v4BBUZhZv8cz"
      }
    },
    {
      "cell_type": "code",
      "source": [
        "from sklearn.neighbors import KNeighborsClassifier \n",
        "from sklearn.metrics import accuracy_score"
      ],
      "metadata": {
        "id": "gz657ZPOu3CA"
      },
      "execution_count": null,
      "outputs": []
    },
    {
      "cell_type": "code",
      "source": [
        "# X_result = np.concatenate((scaled_no_acne_data, scaled_acne_data), axis=0)\n",
        "y_result = np.concatenate((no_acne_data[:,-1], acne_data[:,-1]), axis=0)\n",
        "X_train, X_test, y_train, y_test = train_test_split(scaled_data, y_result, test_size=0.2, random_state = 42)"
      ],
      "metadata": {
        "id": "tgdg7mBVyB7K"
      },
      "execution_count": null,
      "outputs": []
    },
    {
      "cell_type": "code",
      "source": [
        "# try K and record testing accuracy\n",
        "k_range = range(1, 60)\n",
        "\n",
        "knn_scores = []\n",
        "knn_models = []\n",
        "for k in k_range:\n",
        "    knn = KNeighborsClassifier(n_neighbors=k)\n",
        "    knn.fit(X_train, y_train)\n",
        "    knn_models.append(knn)\n",
        "\n",
        "    y_pred = knn.predict(X_test)\n",
        "    knn_scores.append(accuracy_score(y_test, y_pred))\n",
        "\n",
        "best_k = knn_scores.index(max(knn_scores))\n",
        "print(best_k+1, max(knn_scores))\n",
        "\n",
        "plt.plot(knn_scores)\n",
        "plt.xlabel('number of k')\n",
        "plt.ylabel('accuracy')\n",
        "plt.xlim([1, 59])\n",
        "plt.title('KNN Testing Accuracy')"
      ],
      "metadata": {
        "colab": {
          "base_uri": "https://localhost:8080/",
          "height": 330
        },
        "id": "2GnYUkLUu6JW",
        "outputId": "5b9459cf-79b7-4625-83a0-0832ccc7cf6e"
      },
      "execution_count": null,
      "outputs": [
        {
          "output_type": "stream",
          "name": "stdout",
          "text": [
            "13 0.7191011235955056\n"
          ]
        },
        {
          "output_type": "execute_result",
          "data": {
            "text/plain": [
              "Text(0.5, 1.0, 'KNN Testing Accuracy')"
            ]
          },
          "metadata": {},
          "execution_count": 92
        },
        {
          "output_type": "display_data",
          "data": {
            "text/plain": [
              "<Figure size 432x288 with 1 Axes>"
            ],
            "image/png": "[encoded data removed]"
          },
          "metadata": {
            "needs_background": "light"
          }
        }
      ]
    },
    {
      "cell_type": "code",
      "source": [
        "joblib.dump(knn_models[best_k], '/content/drive/MyDrive/DatasetTA_Playground/experiments/knn_models/knn_gabor.pkl')"
      ],
      "metadata": {
        "colab": {
          "base_uri": "https://localhost:8080/"
        },
        "id": "14R6qOnRapKv",
        "outputId": "01ff16e3-70d3-4a0e-9ee8-b7326b786da2"
      },
      "execution_count": null,
      "outputs": [
        {
          "output_type": "execute_result",
          "data": {
            "text/plain": [
              "['/content/drive/MyDrive/DatasetTA_Playground/experiments/knn_models/knn_gabor.pkl']"
            ]
          },
          "metadata": {},
          "execution_count": 94
        }
      ]
    }
  ]
}